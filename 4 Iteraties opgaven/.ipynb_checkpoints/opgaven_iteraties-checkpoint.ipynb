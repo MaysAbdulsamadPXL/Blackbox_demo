{
 "cells": [
  {
   "cell_type": "markdown",
   "metadata": {},
   "source": [
    "# Oefeningen Hoofdstuk 4: Iteraties"
   ]
  },
  {
   "cell_type": "markdown",
   "metadata": {},
   "source": [
    "**Oefening 4.1**\n",
    "\n",
    "Geef het gewicht van een appel (in gram) in via het toetsenbord.\n",
    "Maak een tabel om het gewicht van 1 tot 100 appels af te drukken als volgt:\n",
    "\n",
    "Maak deze opgave eerste via een for, vervolgens via een while.\n",
    "Welk is de betere oplossing?"
   ]
  },
  {
   "cell_type": "markdown",
   "metadata": {},
   "source": [
    "<pre>\n",
    "Geef het gewicht van één appel in: <span style=\"color:blue\">165</span>\n",
    "1 appel(s) = 165 gr.\n",
    "2 appel(s) = 330 gr.\n",
    "3 appel(s) = 495 gr.\n",
    "4 appel(s) = 660 gr.\n",
    "5 appel(s) = 825 gr.\n",
    "...\n",
    "95 appel(s) = 15675 gr.\n",
    "96 appel(s) = 15840 gr.\n",
    "97 appel(s) = 16005 gr.\n",
    "98 appel(s) = 16170 gr.\n",
    "99 appel(s) = 16335 gr.\n",
    "100 appel(s) = 16500 gr.\n",
    "\n",
    "</pre>"
   ]
  },
  {
   "cell_type": "markdown",
   "metadata": {},
   "source": [
    "**Oefening 4.2**\n",
    "\n",
    "Geef een geheel getal in via het toetsenbord vb 9.\n",
    "Maak een vermenigvuldigingstabel als volgt:\n"
   ]
  },
  {
   "cell_type": "markdown",
   "metadata": {},
   "source": [
    "<pre>\n",
    "Geef getal in: <span style=\"color:blue\">9</span>\n",
    "1 x 9 = 9\n",
    "2 x 9 = 18\n",
    "3 x 9 = 27\n",
    "4 x 9 = 36\n",
    "...\n",
    "16 x 9 = 144\n",
    "17 x 9 = 153\n",
    "18 x 9 = 162\n",
    "19 x 9 = 171\n",
    "20 x 9 = 180\n",
    "\n",
    "</pre>"
   ]
  },
  {
   "cell_type": "markdown",
   "metadata": {},
   "source": [
    "**Oefening 4.3**\n",
    "\n",
    "Lees een rij gehele getallen in en druk de som af. Deze rij eindigt met 0.\n",
    "Druk ook af hoeveel negatieve getallen er werden ingegeven."
   ]
  },
  {
   "cell_type": "markdown",
   "metadata": {},
   "source": [
    "<pre>\n",
    "Geef een geheel getal in <span style=\"color:blue\">8</span>\n",
    "Geef een geheel getal in <span style=\"color:blue\">-6</span>\n",
    "Geef een geheel getal in <span style=\"color:blue\">2</span>\n",
    "Geef een geheel getal in <span style=\"color:blue\">3</span>\n",
    "Geef een geheel getal in <span style=\"color:blue\">11</span>\n",
    "Geef een geheel getal in <span style=\"color:blue\">0</span>\n",
    "\n",
    "De som van de ingegeven getallen is 18\n",
    "Het aantal negatieve ingegeven getallen is 1\n",
    "\n",
    "</pre>"
   ]
  },
  {
   "cell_type": "markdown",
   "metadata": {},
   "source": [
    "**Oefening 4.4**\n",
    "\n",
    "Schrijf een programma om het gewicht van een persoon (tussen 50 kg en 120 kg met stapjes van 5) te berekenen op de Maan, Jupiter en Mars. Volgende gegevens zijn constanten in jouw programma: percentage van het gewicht t.o.v. aarde: Maan 16,5%; Jupiter  253,7 % en Mars 37,8%.\n",
    "\n",
    "    Aarde: 50\n",
    "    Maan: 8.25\n",
    "    Jupiter: 126.85\n",
    "    Mars: 18.9\n",
    "\n",
    "    Aarde: 55\n",
    "    Maan: 9.075000000000001\n",
    "    Jupiter: 139.535\n",
    "    Mars: 20.79\n",
    "\n",
    "    Aarde: 60\n",
    "    Maan: 9.9\n",
    "    Jupiter: 152.22\n",
    "    Mars: 22.68\n",
    "    \n",
    "    ...\n",
    "    \n",
    "    Aarde: 120\n",
    "    Maan: 19.8\n",
    "    Jupiter: 304.44\n",
    "    Mars: 45.36\n"
   ]
  },
  {
   "cell_type": "markdown",
   "metadata": {},
   "source": [
    "**Oefening 4.5**\n",
    "\n",
    "Schrijf een programma dat een getal tussen 1 en 100 (grenzen exclusief) opvraagt. Zorg ervoor dat elke foutieve invoer geweigerd wordt. Telkens een verkeerde invoer gebeurt dient er op het scherm een foutboodschap te verschijnen. Ofwel “Fout! Het getal moet groter zijn dan 1” ofwel, “Fout! Het getal moet kleiner zijn dan 100”. Het programma stopt als er een juiste invoer gedaan is. Het getal wordt dan weergegeven op het scherm."
   ]
  },
  {
   "cell_type": "markdown",
   "metadata": {},
   "source": [
    "<pre>\n",
    "Geef een getal tussen 1 en 100 in (= grenzen exclusief) : <span style=\"color:blue\">1</span>\n",
    "Foute ingave! Het getal moet groter zijn dan 1!\n",
    "Geef een getal tussen 1 en 100 in (= grenzen exclusief) : <span style=\"color:blue\">100</span>\n",
    "Foute ingave! Het getal moet kleiner zijn dan 100\n",
    "Geef een getal tussen 1 en 100 in (= grenzen exclusief) : <span style=\"color:blue\">-7</span>\n",
    "Foute ingave! Het getal moet groter zijn dan 1!\n",
    "Geef een getal tussen 1 en 100 in (= grenzen exclusief) : <span style=\"color:blue\">55</span>\n",
    "Het correct ingegeven getal is  55\n",
    "\n",
    "</pre>"
   ]
  },
  {
   "cell_type": "markdown",
   "metadata": {},
   "source": [
    "**Oefening 4.6**\n",
    "\n",
    "Geef via het toetsenbord artikelnummer, hoeveelheid en eenheidsprijs in. De invoer eindigt met artikelnummer = 999. Gevraagd een afdruk van:\n",
    "+ de gegevens per artikel (artikelnummer, hoeveelheid, eenheidsprijs, bedrag)\n",
    "+ het totaal te betalen bedrag van de aankoop."
   ]
  },
  {
   "cell_type": "markdown",
   "metadata": {},
   "source": [
    "<pre>\n",
    "Testoutput 1:\n",
    "Geef artikelnummer in <span style=\"color:blue\">1</span>\n",
    "Geef eenheidsprijs in <span style=\"color:blue\">10</span>\n",
    "Geef aantal in <span style=\"color:blue\">5</span>\n",
    "artikel nr = 1 / hoeveelheid = 5 / eenheidsprijs = 10.0 / bedrag = 50.0\n",
    "Geef artikelnummer in <span style=\"color:blue\">2</span>\n",
    "Geef eenheidsprijs in <span style=\"color:blue\">77</span>\n",
    "Geef aantal in <span style=\"color:blue\">100</span>\n",
    "artikel nr = 2 / hoeveelheid = 100 / eenheidsprijs = 77.0 / bedrag = 7700.0\n",
    "Geef artikelnummer in <span style=\"color:blue\">999</span>\n",
    "Het totale bedrag van de aankoop is  7750.0\n",
    "\n",
    "Testoutput 2:\n",
    "Geef artikelnummer in <span style=\"color:blue\">999</span>\n",
    "Het totale bedrag van de aankoop is  0\n",
    "\n",
    "</pre>"
   ]
  },
  {
   "cell_type": "markdown",
   "metadata": {},
   "source": [
    "**Oefening 4.7**\n",
    "\n",
    "Lees via het toetsenbord de temperatuur gemeten om 12u ’s middags in van 10 dagen. \n",
    "Gevraagd een afdruk van\n",
    "<pre>\n",
    "\tde hoogste temperatuur voor deze 10 dagen \n",
    "\tde gemiddelde temperatuur voor deze 10 dagen\n",
    "</pre>"
   ]
  },
  {
   "cell_type": "markdown",
   "metadata": {},
   "source": [
    "<pre>\n",
    "\n",
    "Geef temperatuur van dag 1 in: <span style=\"color:blue\">-5</span>\n",
    "Geef temperatuur van dag 2 in: <span style=\"color:blue\">-4</span>\n",
    "Geef temperatuur van dag 3 in: <span style=\"color:blue\">-3</span>\n",
    "Geef temperatuur van dag 4 in: <span style=\"color:blue\">-2</span>\n",
    "Geef temperatuur van dag 5 in: <span style=\"color:blue\">-1</span>\n",
    "Geef temperatuur van dag 6 in: <span style=\"color:blue\">-5</span>\n",
    "Geef temperatuur van dag 7 in: <span style=\"color:blue\">-4</span>\n",
    "Geef temperatuur van dag 8 in: <span style=\"color:blue\">-3</span>\n",
    "Geef temperatuur van dag 9 in: <span style=\"color:blue\">-2</span>\n",
    "Geef temperatuur van dag 10 in: -1\n",
    "Het gemiddelde van de temperaturen is  -3.0\n",
    "De hoogste temperatuur is  -1.0\n",
    "</pre>"
   ]
  },
  {
   "cell_type": "markdown",
   "metadata": {},
   "source": [
    "**Oefening 4.8**\n",
    "\n",
    "Er wordt door renners een tijdrit gereden over een afstand van 36 km.\n",
    "Van iedere renner wordt het inschrijvingsnummer en zijn tijd in seconden gegeven via het toetsenbord ingegeven. De invoer stopt wanneer er voor het inschrijvingsnummer een negatief getal wordt ingegeven.\n",
    "We veronderstellen dat alle renners er een verschillende tijd over doen. \n",
    "Gevraagd: \n",
    "+ \tWelke renner is het snelst? \n",
    "+ \tHet percentage van de renners dat er langer dan 1 uur over doet?\n",
    "\n",
    "**Extra:** Druk van de snelste renner ook zijn tijd in uren, minuten en seconden af."
   ]
  },
  {
   "cell_type": "markdown",
   "metadata": {},
   "source": [
    "<pre>\n",
    "Geef nummer van de renner in: <span style=\"color:blue\">1</span>\n",
    "Geef tijd in seconden van deze renner in: <span style=\"color:blue\">3610</span>\n",
    "Geef nummer van de renner in: <span style=\"color:blue\">2</span>\n",
    "Geef tijd in seconden van deze renner in: <span style=\"color:blue\">7000</span>\n",
    "Geef nummer van de renner in: <span style=\"color:blue\">3</span>\n",
    "Geef tijd in seconden van deze renner in: <span style=\"color:blue\">3333</span>\n",
    "Geef nummer van de renner in: <span style=\"color:blue\">-5</span>\n",
    "Het percentage renners dat er langer dan een uur over doet is  66.66666666666666\n",
    "De snelste renner is de renner met inschrijfnummer  3\n",
    "0 u 55 min 33 sec\n",
    "\n",
    "</pre>"
   ]
  },
  {
   "cell_type": "code",
   "execution_count": 1,
   "metadata": {},
   "outputs": [
    {
     "ename": "KeyboardInterrupt",
     "evalue": "Interrupted by user",
     "output_type": "error",
     "traceback": [
      "\u001b[1;31m---------------------------------------------------------------------------\u001b[0m",
      "\u001b[1;31mKeyboardInterrupt\u001b[0m                         Traceback (most recent call last)",
      "Cell \u001b[1;32mIn[1], line 14\u001b[0m\n\u001b[0;32m     12\u001b[0m \u001b[38;5;66;03m# Loop to input runner details\u001b[39;00m\n\u001b[0;32m     13\u001b[0m \u001b[38;5;28;01mwhile\u001b[39;00m \u001b[38;5;28;01mTrue\u001b[39;00m:\n\u001b[1;32m---> 14\u001b[0m     inschrijvingsnummer \u001b[38;5;241m=\u001b[39m \u001b[38;5;28mint\u001b[39m(\u001b[38;5;28minput\u001b[39m(\u001b[38;5;124m\"\u001b[39m\u001b[38;5;124mEnter inschrijvingsnummer (-1 to stop): \u001b[39m\u001b[38;5;124m\"\u001b[39m))\n\u001b[0;32m     15\u001b[0m     \u001b[38;5;28;01mif\u001b[39;00m inschrijvingsnummer \u001b[38;5;241m==\u001b[39m \u001b[38;5;241m-\u001b[39m\u001b[38;5;241m1\u001b[39m:\n\u001b[0;32m     16\u001b[0m         \u001b[38;5;28;01mbreak\u001b[39;00m\n",
      "File \u001b[1;32m~\\anaconda3\\Lib\\site-packages\\ipykernel\\kernelbase.py:1202\u001b[0m, in \u001b[0;36mKernel.raw_input\u001b[1;34m(self, prompt)\u001b[0m\n\u001b[0;32m   1200\u001b[0m     msg \u001b[38;5;241m=\u001b[39m \u001b[38;5;124m\"\u001b[39m\u001b[38;5;124mraw_input was called, but this frontend does not support input requests.\u001b[39m\u001b[38;5;124m\"\u001b[39m\n\u001b[0;32m   1201\u001b[0m     \u001b[38;5;28;01mraise\u001b[39;00m StdinNotImplementedError(msg)\n\u001b[1;32m-> 1202\u001b[0m \u001b[38;5;28;01mreturn\u001b[39;00m \u001b[38;5;28mself\u001b[39m\u001b[38;5;241m.\u001b[39m_input_request(\n\u001b[0;32m   1203\u001b[0m     \u001b[38;5;28mstr\u001b[39m(prompt),\n\u001b[0;32m   1204\u001b[0m     \u001b[38;5;28mself\u001b[39m\u001b[38;5;241m.\u001b[39m_parent_ident[\u001b[38;5;124m\"\u001b[39m\u001b[38;5;124mshell\u001b[39m\u001b[38;5;124m\"\u001b[39m],\n\u001b[0;32m   1205\u001b[0m     \u001b[38;5;28mself\u001b[39m\u001b[38;5;241m.\u001b[39mget_parent(\u001b[38;5;124m\"\u001b[39m\u001b[38;5;124mshell\u001b[39m\u001b[38;5;124m\"\u001b[39m),\n\u001b[0;32m   1206\u001b[0m     password\u001b[38;5;241m=\u001b[39m\u001b[38;5;28;01mFalse\u001b[39;00m,\n\u001b[0;32m   1207\u001b[0m )\n",
      "File \u001b[1;32m~\\anaconda3\\Lib\\site-packages\\ipykernel\\kernelbase.py:1245\u001b[0m, in \u001b[0;36mKernel._input_request\u001b[1;34m(self, prompt, ident, parent, password)\u001b[0m\n\u001b[0;32m   1242\u001b[0m \u001b[38;5;28;01mexcept\u001b[39;00m \u001b[38;5;167;01mKeyboardInterrupt\u001b[39;00m:\n\u001b[0;32m   1243\u001b[0m     \u001b[38;5;66;03m# re-raise KeyboardInterrupt, to truncate traceback\u001b[39;00m\n\u001b[0;32m   1244\u001b[0m     msg \u001b[38;5;241m=\u001b[39m \u001b[38;5;124m\"\u001b[39m\u001b[38;5;124mInterrupted by user\u001b[39m\u001b[38;5;124m\"\u001b[39m\n\u001b[1;32m-> 1245\u001b[0m     \u001b[38;5;28;01mraise\u001b[39;00m \u001b[38;5;167;01mKeyboardInterrupt\u001b[39;00m(msg) \u001b[38;5;28;01mfrom\u001b[39;00m \u001b[38;5;28;01mNone\u001b[39;00m\n\u001b[0;32m   1246\u001b[0m \u001b[38;5;28;01mexcept\u001b[39;00m \u001b[38;5;167;01mException\u001b[39;00m:\n\u001b[0;32m   1247\u001b[0m     \u001b[38;5;28mself\u001b[39m\u001b[38;5;241m.\u001b[39mlog\u001b[38;5;241m.\u001b[39mwarning(\u001b[38;5;124m\"\u001b[39m\u001b[38;5;124mInvalid Message:\u001b[39m\u001b[38;5;124m\"\u001b[39m, exc_info\u001b[38;5;241m=\u001b[39m\u001b[38;5;28;01mTrue\u001b[39;00m)\n",
      "\u001b[1;31mKeyboardInterrupt\u001b[0m: Interrupted by user"
     ]
    }
   ],
   "source": [
    "import statistics\n",
    "\n",
    "# Initializing variables\n",
    "best_time = float('inf')\n",
    "best_runner = 0\n",
    "slowest_time = float('-inf')\n",
    "slowest_runner = 0\n",
    "over_hour = 0\n",
    "sum_of_times = 0\n",
    "count = 0\n",
    "\n",
    "# Loop to input runner details\n",
    "while True:\n",
    "    inschrijvingsnummer = int(input(\"Enter inschrijvingsnummer (-1 to stop): \"))\n",
    "    if inschrijvingsnummer == -1:\n",
    "        break\n",
    "    tijd = float(input(\"Enter time in seconds: \"))\n",
    "\n",
    "    # Update best and slowest times\n",
    "    if tijd < best_time:\n",
    "        best_time = tijd\n",
    "        best_runner = inschrijvingsnummer\n",
    "    if tijd > slowest_time:\n",
    "        slowest_time = tijd\n",
    "        slowest_runner = inschrijvingsnummer\n",
    "\n",
    "    # Check if the time is over 1 hour\n",
    "    if tijd > 3600:\n",
    "        over_hour += 1\n",
    "\n",
    "    # Calculate average speed\n",
    "    sum_of_times += tijd\n",
    "    count += 1\n",
    "    average_speed = 36000 / (sum_of_times / count)\n",
    "\n",
    "# Display the results\n",
    "print(\"\\nBest Runner: {}\".format(best_runner))\n",
    "print(\"Slowest Runner: {}\".format(slowest_runner))\n",
    "print(\"Percentage of Runners over 1 hour: {:.2f}%\".format((over_hour / count) * 100))\n",
    "print(\"Average Speed: {:.2f} km/h\".format(average_speed))"
   ]
  },
  {
   "cell_type": "markdown",
   "metadata": {},
   "source": [
    "**Oefening 4.9**\n",
    "\n",
    "Schrijf een programma dat tafels van vermenigvuldiging afdrukt voor de getallen 2 tot 5 (incl.)."
   ]
  },
  {
   "cell_type": "markdown",
   "metadata": {},
   "source": [
    "<pre>\n",
    "2  4  6  8  10  12  14  16  18  20  \n",
    "3  6  9  12  15  18  21  24  27  30  \n",
    "4  8  12  16  20  24  28  32  36  40  \n",
    "5  10  15  20  25  30  35  40  45  50 \n",
    "\n",
    "</pre>"
   ]
  },
  {
   "cell_type": "markdown",
   "metadata": {},
   "source": [
    "**Oefening 4.10**\n",
    "\n",
    "Schrijf een programma dat gebruik maakt van geneste lussen om volgende schermafdruk te verkrijgen.\n",
    "\n",
    "De grootte van de driehoek wordt als gegeven via het toetsenbord ingegeven.\n",
    "\n",
    "Ter info: de hoogte en de breedte van de driehoek zijn gelijk"
   ]
  },
  {
   "cell_type": "markdown",
   "metadata": {},
   "source": [
    "<pre>\n",
    "Geef de hoogte van de driehoek in <span style=\"color:blue\">7</span>\n",
    "@ @ @ @ @ @ @ \n",
    "@ @ @ @ @ @ \n",
    "@ @ @ @ @ \n",
    "@ @ @ @ \n",
    "@ @ @ \n",
    "@ @ \n",
    "@ \n",
    "\n",
    "</pre>"
   ]
  },
  {
   "cell_type": "code",
   "execution_count": null,
   "metadata": {},
   "outputs": [],
   "source": []
  },
  {
   "cell_type": "markdown",
   "metadata": {},
   "source": [
    "**Oefening 4.11**\n",
    "\n",
    "Volgende gegevens over personeelsleden van een bedrijf worden ingevoerd:\n",
    "+ personeelsnummer\n",
    "+ geslacht: 0= vrouw; 1= man\n",
    "+ leeftijd\n",
    "+ brutoloon\n",
    "\t\n",
    "De invoer eindigt als voor het personeelsnummer 0 wordt ingevoerd.\n",
    "Zorg voor een invoercontrole voor het geslacht.\n",
    "\n",
    "*Gevraagd:*\n",
    "\n",
    "+ Druk het aantal mannelijke personen die ouder zijn dan 34 jaar, of een loon hebben van 1800 euro of meer.\n",
    "+ Druk het aantal vrouwelijke personeelsleden die jonger zijn dan 25 jaar.\n"
   ]
  },
  {
   "cell_type": "markdown",
   "metadata": {},
   "source": [
    "<pre>\n",
    "Geef jouw personeelsnummer in: <span style=\"color:blue\">1</span>\n",
    "Geef jouw geslacht in (0 = vrouw, 1 = man): <span style=\"color:blue\">2</span>\n",
    "Foutief geslacht: geef opnieuw in (0 = vrouw, 1 = man): <span style=\"color:blue\">-2</span>\n",
    "Foutief geslacht: geef opnieuw in (0 = vrouw, 1 = man): <span style=\"color:blue\">0</span>\n",
    "Geef jouw leeftijd in: <span style=\"color:blue\">21</span>\n",
    "Geef jouw brutoloon in: <span style=\"color:blue\">4500</span>\n",
    "Geef jouw personeelsnummer in: <span style=\"color:blue\">2</span>\n",
    "Geef jouw geslacht in (0 = vrouw, 1 = man): <span style=\"color:blue\">0</span>\n",
    "Geef jouw leeftijd in: <span style=\"color:blue\">25</span>\n",
    "Geef jouw brutoloon in: <span style=\"color:blue\">2500</span>\n",
    "Geef jouw personeelsnummer in: <span style=\"color:blue\">3</span>\n",
    "Geef jouw geslacht in (0 = vrouw, 1 = man): <span style=\"color:blue\">1</span>\n",
    "Geef jouw leeftijd in: <span style=\"color:blue\">22</span>\n",
    "Geef jouw brutoloon in: <span style=\"color:blue\">3500</span>\n",
    "Geef jouw personeelsnummer in: <span style=\"color:blue\">0</span>\n",
    "Het aantal mannen dat aan de voorwaarde voldoet is  1\n",
    "Het aantal vrouwen dat aan de voorwaarde voldoet is  1\n",
    "\n",
    "</pre>"
   ]
  },
  {
   "cell_type": "markdown",
   "metadata": {},
   "source": [
    "**Oefening 4.12**\n",
    "\n",
    "Een onderneming wenst aan haar personeelsleden een premie uit te betalen die in verhouding staat tot het aantal dienstjaren. Bereken de individuele premie en de totale premie. Per personeelslid dient via het toetsenbord het volgende ingegeven te worden: de familienaam (invoer van \"/\" of \"\\*\" betekent het einde van het programma), voornaam en het aantal dienstjaren. Zorg voor een invoercontrole op het aantal dienstjaren, dit moet een getal zijn tussen 0 en 40 jaar.  De premie wordt als volgt berekend: het aantal dienstjaren * 25 euro. Als het aantal dienstjaren minder zijn dan 5, krijgt de persoon 0 euro als premie. Druk per persoon de familienaam, de voornaam, het aantal jaren dienst en de premie af.  Druk aan het einde van het programma de totaal te betalen premie en de hoogste premie af."
   ]
  },
  {
   "cell_type": "markdown",
   "metadata": {},
   "source": [
    "<pre>\n",
    "Geef jouw familienaam in: <span style=\"color:blue\">tans</span>\n",
    "Geef jouw voornaam in: <span style=\"color:blue\">heidi</span>\n",
    "Geef het aantal dienstjaren in: <span style=\"color:blue\">27</span>\n",
    "familienaam = tans\n",
    "voornaam = heidi\n",
    "aantal dienstjaren = 27\n",
    "premie is 675\n",
    "Geef jouw familienaam in: <span style=\"color:blue\">peters</span>\n",
    "Geef jouw voornaam in: <span style=\"color:blue\">piet</span>\n",
    "Geef het aantal dienstjaren in: <span style=\"color:blue\">55</span>\n",
    "Geef een juist aantal dienstjaren in (tussen 0 en 40)): <span style=\"color:blue\">-20</span>\n",
    "Geef een juist aantal dienstjaren in (tussen 0 en 40)): <span style=\"color:blue\">20</span>\n",
    "familienaam = peters\n",
    "voornaam = piet\n",
    "aantal dienstjaren = 20\n",
    "premie is 500\n",
    "Geef jouw familienaam in: <span style=\"color:blue\">jansen</span>\n",
    "Geef jouw voornaam in: <span style=\"color:blue\">jan</span>\n",
    "Geef het aantal dienstjaren in: <span style=\"color:blue\">2</span>\n",
    "familienaam = jansen\n",
    "voornaam = jan\n",
    "aantal dienstjaren = 2\n",
    "premie is 0\n",
    "Geef jouw familienaam in: <span style=\"color:blue\">/</span>\n",
    "De totaal te betalen premie is 1175\n",
    "De hoogste premie is 675\n",
    "\n",
    "</pre>"
   ]
  },
  {
   "cell_type": "code",
   "execution_count": null,
   "metadata": {},
   "outputs": [],
   "source": []
  }
 ],
 "metadata": {
  "kernelspec": {
   "display_name": "Python 3 (ipykernel)",
   "language": "python",
   "name": "python3"
  },
  "language_info": {
   "codemirror_mode": {
    "name": "ipython",
    "version": 3
   },
   "file_extension": ".py",
   "mimetype": "text/x-python",
   "name": "python",
   "nbconvert_exporter": "python",
   "pygments_lexer": "ipython3",
   "version": "3.11.5"
  }
 },
 "nbformat": 4,
 "nbformat_minor": 1
}
